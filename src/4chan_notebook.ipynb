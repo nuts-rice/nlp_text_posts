{
 "metadata": {
  "language_info": {
   "codemirror_mode": {
    "name": "ipython",
    "version": 3
   },
   "file_extension": ".py",
   "mimetype": "text/x-python",
   "name": "python",
   "nbconvert_exporter": "python",
   "pygments_lexer": "ipython3",
   "version": "3.8.3-final"
  },
  "orig_nbformat": 2,
  "kernelspec": {
   "name": "python3",
   "display_name": "Python 3",
   "language": "python"
  }
 },
 "nbformat": 4,
 "nbformat_minor": 2,
 "cells": [
  {
   "cell_type": "code",
   "execution_count": 3,
   "metadata": {},
   "outputs": [
    {
     "output_type": "stream",
     "name": "stdout",
     "text": [
      "<Response [200]>\n"
     ]
    }
   ],
   "source": [
    "import nltk\n",
    "import json\n",
    "import requests\n",
    "from pprint import pprint\n",
    "from datetime import datetime as dt \n",
    "import re\n",
    "import pandas as pd\n",
    "import numpy as np\n",
    "\n",
    "response = requests.get('https://a.4cdn.org/lgbt/threads.json')\n",
    "print(response)"
   ]
  },
  {
   "cell_type": "code",
   "execution_count": 5,
   "metadata": {},
   "outputs": [
    {
     "output_type": "stream",
     "name": "stdout",
     "text": [
      "[{'page': 1,\n  'threads': [{'last_modified': 1612034462, 'no': 18829878, 'replies': 0},\n              {'last_modified': 1612034451, 'no': 18828949, 'replies': 14},\n              {'last_modified': 1612034448, 'no': 18824418, 'replies': 33},\n              {'last_modified': 1612034442, 'no': 18828299, 'replies': 219},\n              {'last_modified': 1612034434, 'no': 18827070, 'replies': 179},\n              {'last_modified': 1612034426, 'no': 18819653, 'replies': 102},\n              {'last_modified': 1612034420, 'no': 18828712, 'replies': 304},\n              {'last_modified': 1612034413, 'no': 18827147, 'replies': 14},\n              {'last_modified': 1612034395, 'no': 18829465, 'replies': 30},\n              {'last_modified': 1612034395, 'no': 18826635, 'replies': 30},\n              {'last_modified': 1612034395, 'no': 18828935, 'replies': 43},\n              {'last_modified': 1612034381, 'no': 18829863, 'replies': 0},\n              {'last_modified': 1612034353, 'no': 18829572, 'replies': 16},\n              {'last_modified': 1612034342, 'no': 18827043, 'replies': 27},\n              {'last_modified': 1612034319, 'no': 18829848, 'replies': 0}]},\n {'page': 2,\n  'threads': [{'last_modified': 1612034310, 'no': 18829091, 'replies': 47},\n              {'last_modified': 1612034300, 'no': 18827610, 'replies': 12},\n              {'last_modified': 1612034298, 'no': 18829031, 'replies': 7},\n              {'last_modified': 1612034187, 'no': 18829277, 'replies': 15},\n              {'last_modified': 1612034134, 'no': 18829267, 'replies': 13},\n              {'last_modified': 1612034086, 'no': 18829359, 'replies': 4},\n              {'last_modified': 1612034069, 'no': 18791982, 'replies': 301},\n              {'last_modified': 1612034070, 'no': 18828772, 'replies': 26},\n              {'last_modified': 1612034043, 'no': 18829776, 'replies': 0},\n              {'last_modified': 1612033973, 'no': 18825308, 'replies': 171},\n              {'last_modified': 1612033972, 'no': 18820841, 'replies': 101},\n              {'last_modified': 1612033949, 'no': 18827216, 'replies': 19},\n              {'last_modified': 1612033915, 'no': 18817906, 'replies': 219},\n              {'last_modified': 1612033899, 'no': 18828258, 'replies': 2},\n              {'last_modified': 1612033875, 'no': 18817184, 'replies': 96}]},\n {'page': 3,\n  'threads': [{'last_modified': 1612033835, 'no': 18826988, 'replies': 9},\n              {'last_modified': 1612033740, 'no': 18805753, 'replies': 135},\n              {'last_modified': 1612033698, 'no': 18828873, 'replies': 4},\n              {'last_modified': 1612033618, 'no': 18829671, 'replies': 0},\n              {'last_modified': 1612033597, 'no': 18826549, 'replies': 28},\n              {'last_modified': 1612033561, 'no': 18828625, 'replies': 1},\n              {'last_modified': 1612033528, 'no': 18826912, 'replies': 65},\n              {'last_modified': 1612033514, 'no': 18829646, 'replies': 0},\n              {'last_modified': 1612033477, 'no': 18798530, 'replies': 302},\n              {'last_modified': 1612033402, 'no': 18823608, 'replies': 25},\n              {'last_modified': 1612033399, 'no': 18817873, 'replies': 63},\n              {'last_modified': 1612033381, 'no': 18823736, 'replies': 192},\n              {'last_modified': 1612033224, 'no': 18825654, 'replies': 291},\n              {'last_modified': 1612033217, 'no': 18826678, 'replies': 62},\n              {'last_modified': 1612033216, 'no': 18826286, 'replies': 24}]},\n {'page': 4,\n  'threads': [{'last_modified': 1612033124, 'no': 18826301, 'replies': 31},\n              {'last_modified': 1612033079, 'no': 18824630, 'replies': 22},\n              {'last_modified': 1612033024, 'no': 18809515, 'replies': 196},\n              {'last_modified': 1612033174, 'no': 18829507, 'replies': 2},\n              {'last_modified': 1612032942, 'no': 18827926, 'replies': 15},\n              {'last_modified': 1612032915, 'no': 18825438, 'replies': 9},\n              {'last_modified': 1612032905, 'no': 18826488, 'replies': 24},\n              {'last_modified': 1612032894, 'no': 18828571, 'replies': 23},\n              {'last_modified': 1612032865, 'no': 18776337, 'replies': 157},\n              {'last_modified': 1612032693, 'no': 18829106, 'replies': 13},\n              {'last_modified': 1612032622, 'no': 18820815, 'replies': 51},\n              {'last_modified': 1612032484, 'no': 18827091, 'replies': 5},\n              {'last_modified': 1612032465, 'no': 18828880, 'replies': 5},\n              {'last_modified': 1612032350, 'no': 18822320, 'replies': 26},\n              {'last_modified': 1612032331, 'no': 18826910, 'replies': 8}]},\n {'page': 5,\n  'threads': [{'last_modified': 1612032302, 'no': 18829263, 'replies': 3},\n              {'last_modified': 1612032265, 'no': 18829305, 'replies': 0},\n              {'last_modified': 1612032254, 'no': 18824186, 'replies': 49},\n              {'last_modified': 1612032177, 'no': 18823684, 'replies': 31},\n              {'last_modified': 1612032125, 'no': 18822065, 'replies': 75},\n              {'last_modified': 1612032090, 'no': 18829228, 'replies': 1},\n              {'last_modified': 1612032057, 'no': 18828753, 'replies': 3},\n              {'last_modified': 1612032000, 'no': 18828793, 'replies': 9},\n              {'last_modified': 1612031984, 'no': 18815243, 'replies': 136},\n              {'last_modified': 1612031935, 'no': 18829215, 'replies': 0},\n              {'last_modified': 1612031841, 'no': 18829194, 'replies': 0},\n              {'last_modified': 1612031731, 'no': 18828053, 'replies': 33},\n              {'last_modified': 1612031615, 'no': 18821891, 'replies': 42},\n              {'last_modified': 1612031529, 'no': 18824963, 'replies': 26},\n              {'last_modified': 1612031380, 'no': 18828775, 'replies': 9}]},\n {'page': 6,\n  'threads': [{'last_modified': 1612031282, 'no': 18828796, 'replies': 3},\n              {'last_modified': 1612031194, 'no': 18828198, 'replies': 8},\n              {'last_modified': 1612031111, 'no': 18828437, 'replies': 16},\n              {'last_modified': 1612031092, 'no': 18826111, 'replies': 5},\n              {'last_modified': 1612031061, 'no': 18828716, 'replies': 2},\n              {'last_modified': 1612031036, 'no': 18827120, 'replies': 9},\n              {'last_modified': 1612030902, 'no': 18827106, 'replies': 4},\n              {'last_modified': 1612030865, 'no': 18828960, 'replies': 0},\n              {'last_modified': 1612030814, 'no': 18818341, 'replies': 103},\n              {'last_modified': 1612030612, 'no': 18827405, 'replies': 6},\n              {'last_modified': 1612030492, 'no': 18826257, 'replies': 14},\n              {'last_modified': 1612030402, 'no': 18828847, 'replies': 0},\n              {'last_modified': 1612030073, 'no': 18828584, 'replies': 4},\n              {'last_modified': 1612030024, 'no': 18828733, 'replies': 1},\n              {'last_modified': 1612030013, 'no': 18825715, 'replies': 23}]},\n {'page': 7,\n  'threads': [{'last_modified': 1612029996, 'no': 18825966, 'replies': 28},\n              {'last_modified': 1612029930, 'no': 18816342, 'replies': 70},\n              {'last_modified': 1612029416, 'no': 18828518, 'replies': 11},\n              {'last_modified': 1612029377, 'no': 18827277, 'replies': 88},\n              {'last_modified': 1612029294, 'no': 18825303, 'replies': 48},\n              {'last_modified': 1612029220, 'no': 18760360, 'replies': 163},\n              {'last_modified': 1612029138, 'no': 18828572, 'replies': 0},\n              {'last_modified': 1612029041, 'no': 18826998, 'replies': 59},\n              {'last_modified': 1612028877, 'no': 18828540, 'replies': 0},\n              {'last_modified': 1612028713, 'no': 18826931, 'replies': 32},\n              {'last_modified': 1612028637, 'no': 18821427, 'replies': 88},\n              {'last_modified': 1612028562, 'no': 18826691, 'replies': 4},\n              {'last_modified': 1612028448, 'no': 18827576, 'replies': 66},\n              {'last_modified': 1612028251, 'no': 18828294, 'replies': 9},\n              {'last_modified': 1612028239, 'no': 18828256, 'replies': 1}]},\n {'page': 8,\n  'threads': [{'last_modified': 1612028125, 'no': 18812963, 'replies': 95},\n              {'last_modified': 1612028090, 'no': 18826428, 'replies': 13},\n              {'last_modified': 1612034389, 'no': 18811182, 'replies': 341},\n              {'last_modified': 1612027826, 'no': 18828362, 'replies': 1},\n              {'last_modified': 1612027749, 'no': 18828358, 'replies': 1},\n              {'last_modified': 1612027726, 'no': 18826674, 'replies': 42},\n              {'last_modified': 1612027700, 'no': 18827818, 'replies': 1},\n              {'last_modified': 1612027579, 'no': 18826178, 'replies': 1},\n              {'last_modified': 1612027236, 'no': 18827772, 'replies': 10},\n              {'last_modified': 1612027204, 'no': 18828150, 'replies': 18},\n              {'last_modified': 1612027140, 'no': 18828062, 'replies': 3},\n              {'last_modified': 1612026994, 'no': 18825506, 'replies': 6},\n              {'last_modified': 1612026948, 'no': 18827122, 'replies': 7},\n              {'last_modified': 1612026648, 'no': 18828069, 'replies': 8},\n              {'last_modified': 1612026374, 'no': 18828110, 'replies': 4}]},\n {'page': 9,\n  'threads': [{'last_modified': 1612026172, 'no': 18826774, 'replies': 15},\n              {'last_modified': 1612025873, 'no': 18826773, 'replies': 10},\n              {'last_modified': 1612025601, 'no': 18826014, 'replies': 18},\n              {'last_modified': 1612025578, 'no': 18828020, 'replies': 1},\n              {'last_modified': 1612025548, 'no': 18826731, 'replies': 14},\n              {'last_modified': 1612025354, 'no': 18825525, 'replies': 11},\n              {'last_modified': 1612025056, 'no': 18827717, 'replies': 5},\n              {'last_modified': 1612024861, 'no': 18827211, 'replies': 6},\n              {'last_modified': 1612024792, 'no': 18827413, 'replies': 1},\n              {'last_modified': 1612024648, 'no': 18827802, 'replies': 3},\n              {'last_modified': 1612024593, 'no': 18812451, 'replies': 67},\n              {'last_modified': 1612024489, 'no': 18823006, 'replies': 18},\n              {'last_modified': 1612024449, 'no': 18827925, 'replies': 0},\n              {'last_modified': 1612024323, 'no': 18826268, 'replies': 22},\n              {'last_modified': 1612023534, 'no': 18826362, 'replies': 18}]},\n {'page': 10,\n  'threads': [{'last_modified': 1612023482, 'no': 18827792, 'replies': 0},\n              {'last_modified': 1612023086, 'no': 18823622, 'replies': 19},\n              {'last_modified': 1612022902, 'no': 18827525, 'replies': 9},\n              {'last_modified': 1612022834, 'no': 18824804, 'replies': 5},\n              {'last_modified': 1612022750, 'no': 18827378, 'replies': 5},\n              {'last_modified': 1612022381, 'no': 18825593, 'replies': 33},\n              {'last_modified': 1612022361, 'no': 18816779, 'replies': 51},\n              {'last_modified': 1612022363, 'no': 18827556, 'replies': 8},\n              {'last_modified': 1612022103, 'no': 18825178, 'replies': 74},\n              {'last_modified': 1612021992, 'no': 18827517, 'replies': 2},\n              {'last_modified': 1612021840, 'no': 18827202, 'replies': 8},\n              {'last_modified': 1612021531, 'no': 18822846, 'replies': 19},\n              {'last_modified': 1612021281, 'no': 18827155, 'replies': 6},\n              {'last_modified': 1612021180, 'no': 18824735, 'replies': 12},\n              {'last_modified': 1612020397, 'no': 18827382, 'replies': 1}]}]\n"
     ]
    }
   ],
   "source": [
    "response_text = response.json()\n",
    "pprint(response_text)"
   ]
  },
  {
   "cell_type": "code",
   "execution_count": null,
   "metadata": {},
   "outputs": [],
   "source": []
  }
 ]
}