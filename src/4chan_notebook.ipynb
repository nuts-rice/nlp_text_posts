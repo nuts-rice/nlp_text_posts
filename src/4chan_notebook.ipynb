{
 "metadata": {
  "language_info": {
   "codemirror_mode": {
    "name": "ipython",
    "version": 3
   },
   "file_extension": ".py",
   "mimetype": "text/x-python",
   "name": "python",
   "nbconvert_exporter": "python",
   "pygments_lexer": "ipython3",
   "version": "3.8.3-final"
  },
  "orig_nbformat": 2,
  "kernelspec": {
   "name": "python3",
   "display_name": "Python 3",
   "language": "python"
  }
 },
 "nbformat": 4,
 "nbformat_minor": 2,
 "cells": [
  {
   "cell_type": "code",
   "execution_count": 1,
   "metadata": {},
   "outputs": [
    {
     "output_type": "stream",
     "name": "stdout",
     "text": [
      "<Response [200]>\n"
     ]
    }
   ],
   "source": [
    "import nltk\n",
    "import json\n",
    "import requests\n",
    "from pprint import pprint\n",
    "from datetime import datetime as dt \n",
    "import re\n",
    "import pandas as pd\n",
    "import numpy as np\n",
    "from scipy import stats\n",
    "\n",
    "response = requests.get('https://a.4cdn.org/lgbt/threads.json')\n",
    "print(response)"
   ]
  },
  {
   "cell_type": "code",
   "execution_count": 2,
   "metadata": {},
   "outputs": [
    {
     "output_type": "stream",
     "name": "stdout",
     "text": [
      "Requirement already satisfied: basc-py4chan in /home/mishkasistrunk/anaconda3/lib/python3.8/site-packages (0.6.5)\n",
      "Requirement already satisfied: requests>=1.0.0 in /home/mishkasistrunk/anaconda3/lib/python3.8/site-packages (from basc-py4chan) (2.24.0)\n",
      "Requirement already satisfied: urllib3!=1.25.0,!=1.25.1,<1.26,>=1.21.1 in /home/mishkasistrunk/anaconda3/lib/python3.8/site-packages (from requests>=1.0.0->basc-py4chan) (1.25.9)\n",
      "Requirement already satisfied: chardet<4,>=3.0.2 in /home/mishkasistrunk/anaconda3/lib/python3.8/site-packages (from requests>=1.0.0->basc-py4chan) (3.0.4)\n",
      "Requirement already satisfied: certifi>=2017.4.17 in /home/mishkasistrunk/anaconda3/lib/python3.8/site-packages (from requests>=1.0.0->basc-py4chan) (2020.6.20)\n",
      "Requirement already satisfied: idna<3,>=2.5 in /home/mishkasistrunk/anaconda3/lib/python3.8/site-packages (from requests>=1.0.0->basc-py4chan) (2.10)\n",
      "\u001b[33mWARNING: You are using pip version 20.2.4; however, version 21.0.1 is available.\n",
      "You should consider upgrading via the '/home/mishkasistrunk/anaconda3/bin/python -m pip install --upgrade pip' command.\u001b[0m\n"
     ]
    }
   ],
   "source": [
    "!pip install basc-py4chan\n"
   ]
  },
  {
   "cell_type": "code",
   "execution_count": 3,
   "metadata": {},
   "outputs": [],
   "source": [
    "# https://api.420chan.org/\n",
    "# https://medium.com/datadriveninvestor/how-to-use-the-4chan-json-api-with-python-building-a-dataset-for-machine-learning-part-1-ac36ad4c4be2\n",
    "# https://basc-py4chan.readthedocs.io/en/latest/"
   ]
  },
  {
   "cell_type": "code",
   "execution_count": 4,
   "metadata": {},
   "outputs": [
    {
     "output_type": "stream",
     "name": "stdout",
     "text": [
      "dict_keys(['page', 'threads'])\n1\n[{'no': 18847957, 'last_modified': 1612129989, 'replies': 127}, {'no': 18848661, 'last_modified': 1612129989, 'replies': 27}, {'no': 18849083, 'last_modified': 1612129988, 'replies': 5}, {'no': 18846880, 'last_modified': 1612129982, 'replies': 36}, {'no': 18849267, 'last_modified': 1612129977, 'replies': 2}, {'no': 18824630, 'last_modified': 1612129975, 'replies': 124}, {'no': 18847162, 'last_modified': 1612129973, 'replies': 158}, {'no': 18848940, 'last_modified': 1612129963, 'replies': 19}, {'no': 18848705, 'last_modified': 1612129962, 'replies': 20}, {'no': 18844466, 'last_modified': 1612129954, 'replies': 256}, {'no': 18847889, 'last_modified': 1612129950, 'replies': 5}, {'no': 18848025, 'last_modified': 1612129938, 'replies': 18}, {'no': 18847004, 'last_modified': 1612129932, 'replies': 1}, {'no': 18839945, 'last_modified': 1612129932, 'replies': 64}, {'no': 18848632, 'last_modified': 1612129917, 'replies': 6}]\ndict_keys(['page', 'threads'])\n2\n[{'no': 18821891, 'last_modified': 1612129893, 'replies': 107}, {'no': 18848072, 'last_modified': 1612129888, 'replies': 17}, {'no': 18818341, 'last_modified': 1612129884, 'replies': 299}, {'no': 18848469, 'last_modified': 1612129932, 'replies': 104}, {'no': 18844004, 'last_modified': 1612129875, 'replies': 36}, {'no': 18844135, 'last_modified': 1612129867, 'replies': 32}, {'no': 18846369, 'last_modified': 1612129856, 'replies': 12}, {'no': 18826912, 'last_modified': 1612129834, 'replies': 261}, {'no': 18843155, 'last_modified': 1612129824, 'replies': 38}, {'no': 18844449, 'last_modified': 1612129816, 'replies': 10}, {'no': 18847404, 'last_modified': 1612129806, 'replies': 15}, {'no': 18846168, 'last_modified': 1612129788, 'replies': 44}, {'no': 18848847, 'last_modified': 1612129704, 'replies': 7}, {'no': 18848481, 'last_modified': 1612129679, 'replies': 19}, {'no': 18849070, 'last_modified': 1612129629, 'replies': 2}]\ndict_keys(['page', 'threads'])\n3\n[{'no': 18848221, 'last_modified': 1612129605, 'replies': 42}, {'no': 18844726, 'last_modified': 1612129595, 'replies': 73}, {'no': 18848508, 'last_modified': 1612129596, 'replies': 8}, {'no': 18848104, 'last_modified': 1612129544, 'replies': 10}, {'no': 18848079, 'last_modified': 1612129486, 'replies': 7}, {'no': 18846477, 'last_modified': 1612129472, 'replies': 27}, {'no': 18845884, 'last_modified': 1612129457, 'replies': 30}, {'no': 18832820, 'last_modified': 1612129449, 'replies': 280}, {'no': 18847528, 'last_modified': 1612129402, 'replies': 13}, {'no': 18843231, 'last_modified': 1612129391, 'replies': 25}, {'no': 18843853, 'last_modified': 1612129382, 'replies': 32}, {'no': 18843662, 'last_modified': 1612129340, 'replies': 18}, {'no': 18844509, 'last_modified': 1612129260, 'replies': 9}, {'no': 18849084, 'last_modified': 1612129228, 'replies': 0}, {'no': 18848265, 'last_modified': 1612129218, 'replies': 29}]\ndict_keys(['page', 'threads'])\n4\n[{'no': 18830404, 'last_modified': 1612129192, 'replies': 71}, {'no': 18848545, 'last_modified': 1612129118, 'replies': 4}, {'no': 18846109, 'last_modified': 1612129093, 'replies': 27}, {'no': 18844064, 'last_modified': 1612129081, 'replies': 87}, {'no': 18844559, 'last_modified': 1612129079, 'replies': 117}, {'no': 18844502, 'last_modified': 1612128989, 'replies': 50}, {'no': 18847465, 'last_modified': 1612128981, 'replies': 10}, {'no': 18848849, 'last_modified': 1612128980, 'replies': 6}, {'no': 18812963, 'last_modified': 1612128972, 'replies': 154}, {'no': 18848944, 'last_modified': 1612128960, 'replies': 2}, {'no': 18846376, 'last_modified': 1612128947, 'replies': 14}, {'no': 18827610, 'last_modified': 1612128930, 'replies': 113}, {'no': 18846887, 'last_modified': 1612128887, 'replies': 23}, {'no': 18845785, 'last_modified': 1612128862, 'replies': 14}, {'no': 18848111, 'last_modified': 1612128814, 'replies': 4}]\ndict_keys(['page', 'threads'])\n5\n[{'no': 18840657, 'last_modified': 1612128672, 'replies': 75}, {'no': 18847717, 'last_modified': 1612128639, 'replies': 7}, {'no': 18847155, 'last_modified': 1612128628, 'replies': 12}, {'no': 18847380, 'last_modified': 1612128592, 'replies': 49}, {'no': 18848525, 'last_modified': 1612128561, 'replies': 3}, {'no': 18834983, 'last_modified': 1612128511, 'replies': 135}, {'no': 18837585, 'last_modified': 1612128444, 'replies': 74}, {'no': 18847194, 'last_modified': 1612128412, 'replies': 16}, {'no': 18847190, 'last_modified': 1612128272, 'replies': 7}, {'no': 18848711, 'last_modified': 1612128329, 'replies': 4}, {'no': 18848073, 'last_modified': 1612128248, 'replies': 15}, {'no': 18848746, 'last_modified': 1612128226, 'replies': 0}, {'no': 18845630, 'last_modified': 1612128203, 'replies': 17}, {'no': 18847966, 'last_modified': 1612128181, 'replies': 3}, {'no': 18848682, 'last_modified': 1612128056, 'replies': 0}]\ndict_keys(['page', 'threads'])\n6\n[{'no': 18847994, 'last_modified': 1612127900, 'replies': 2}, {'no': 18842618, 'last_modified': 1612127891, 'replies': 40}, {'no': 18847687, 'last_modified': 1612127743, 'replies': 9}, {'no': 18848603, 'last_modified': 1612127738, 'replies': 0}, {'no': 18848368, 'last_modified': 1612127654, 'replies': 4}, {'no': 18848557, 'last_modified': 1612127582, 'replies': 0}, {'no': 18842864, 'last_modified': 1612127475, 'replies': 28}, {'no': 18846363, 'last_modified': 1612127435, 'replies': 7}, {'no': 18848045, 'last_modified': 1612127412, 'replies': 3}, {'no': 18842886, 'last_modified': 1612127393, 'replies': 31}, {'no': 18846742, 'last_modified': 1612127377, 'replies': 17}, {'no': 18834128, 'last_modified': 1612127349, 'replies': 72}, {'no': 18847106, 'last_modified': 1612127334, 'replies': 8}, {'no': 18833242, 'last_modified': 1612127077, 'replies': 79}, {'no': 18843911, 'last_modified': 1612127012, 'replies': 22}]\ndict_keys(['page', 'threads'])\n7\n[{'no': 18845724, 'last_modified': 1612129951, 'replies': 401}, {'no': 18817906, 'last_modified': 1612126963, 'replies': 282}, {'no': 18847012, 'last_modified': 1612126871, 'replies': 3}, {'no': 18847886, 'last_modified': 1612126766, 'replies': 8}, {'no': 18838045, 'last_modified': 1612126727, 'replies': 83}, {'no': 18848214, 'last_modified': 1612126559, 'replies': 2}, {'no': 18846928, 'last_modified': 1612126538, 'replies': 10}, {'no': 18842658, 'last_modified': 1612126474, 'replies': 131}, {'no': 18848057, 'last_modified': 1612126470, 'replies': 5}, {'no': 18846593, 'last_modified': 1612126331, 'replies': 7}, {'no': 18847971, 'last_modified': 1612126252, 'replies': 3}, {'no': 18847860, 'last_modified': 1612125964, 'replies': 6}, {'no': 18847034, 'last_modified': 1612125931, 'replies': 4}, {'no': 18844294, 'last_modified': 1612125702, 'replies': 10}, {'no': 18846038, 'last_modified': 1612125676, 'replies': 55}]\ndict_keys(['page', 'threads'])\n8\n[{'no': 18845352, 'last_modified': 1612125620, 'replies': 13}, {'no': 18847519, 'last_modified': 1612125592, 'replies': 1}, {'no': 18847229, 'last_modified': 1612125528, 'replies': 11}, {'no': 18846945, 'last_modified': 1612125303, 'replies': 6}, {'no': 18846665, 'last_modified': 1612125188, 'replies': 2}, {'no': 18845699, 'last_modified': 1612125039, 'replies': 6}, {'no': 18846703, 'last_modified': 1612124920, 'replies': 14}, {'no': 18844355, 'last_modified': 1612124896, 'replies': 7}, {'no': 18845809, 'last_modified': 1612124819, 'replies': 37}, {'no': 18820841, 'last_modified': 1612127089, 'replies': 310}, {'no': 18843360, 'last_modified': 1612124802, 'replies': 104}, {'no': 18836278, 'last_modified': 1612124774, 'replies': 96}, {'no': 18847462, 'last_modified': 1612124693, 'replies': 15}, {'no': 18846101, 'last_modified': 1612124530, 'replies': 3}, {'no': 18847325, 'last_modified': 1612124392, 'replies': 16}]\ndict_keys(['page', 'threads'])\n9\n[{'no': 18847630, 'last_modified': 1612124126, 'replies': 2}, {'no': 18847458, 'last_modified': 1612124002, 'replies': 8}, {'no': 18843712, 'last_modified': 1612123848, 'replies': 35}, {'no': 18847550, 'last_modified': 1612123737, 'replies': 3}, {'no': 18847043, 'last_modified': 1612123720, 'replies': 7}, {'no': 18839993, 'last_modified': 1612123718, 'replies': 22}, {'no': 18847573, 'last_modified': 1612123822, 'replies': 2}, {'no': 18847283, 'last_modified': 1612123535, 'replies': 13}, {'no': 18847457, 'last_modified': 1612123623, 'replies': 3}, {'no': 18847368, 'last_modified': 1612123078, 'replies': 3}, {'no': 18846768, 'last_modified': 1612123058, 'replies': 8}, {'no': 18843775, 'last_modified': 1612123036, 'replies': 15}, {'no': 18843518, 'last_modified': 1612122914, 'replies': 31}, {'no': 18847335, 'last_modified': 1612122778, 'replies': 7}, {'no': 18842108, 'last_modified': 1612122488, 'replies': 60}]\ndict_keys(['page', 'threads'])\n10\n[{'no': 18829267, 'last_modified': 1612122250, 'replies': 236}, {'no': 18844588, 'last_modified': 1612122222, 'replies': 20}, {'no': 18845882, 'last_modified': 1612125983, 'replies': 11}, {'no': 18847185, 'last_modified': 1612122025, 'replies': 0}, {'no': 18845206, 'last_modified': 1612121632, 'replies': 9}, {'no': 18845850, 'last_modified': 1612121483, 'replies': 4}, {'no': 18830043, 'last_modified': 1612123467, 'replies': 332}, {'no': 18843813, 'last_modified': 1612121153, 'replies': 22}, {'no': 18842675, 'last_modified': 1612121129, 'replies': 25}, {'no': 18846698, 'last_modified': 1612120977, 'replies': 9}, {'no': 18846037, 'last_modified': 1612120873, 'replies': 8}, {'no': 18845583, 'last_modified': 1612120855, 'replies': 42}, {'no': 18845897, 'last_modified': 1612120800, 'replies': 2}, {'no': 18845964, 'last_modified': 1612120777, 'replies': 5}]\n"
     ]
    }
   ],
   "source": [
    "\n",
    "r_text = response.json()\n",
    "for items in r_text:\n",
    "    print(items.keys())\n",
    "    print(items['page'])\n",
    "    print(items['threads'])\n"
   ]
  },
  {
   "cell_type": "code",
   "execution_count": 5,
   "metadata": {},
   "outputs": [],
   "source": [
    "#Generators are an entire discussion unto themselves, but as you can see using the yield statement, instead of return, gives us a generator function.\n",
    "\n",
    "def gen_chan():\n",
    "    for idx, page in enumerate(r_text):\n",
    "        for thread in r_text[idx]['threads']:\n",
    "            yield thread\n"
   ]
  },
  {
   "cell_type": "code",
   "execution_count": 6,
   "metadata": {},
   "outputs": [],
   "source": [
    "def get_threads(key: str, default = 'NaN'):\n",
    "    return threads.get(key, default)\n",
    "\n",
    "# for threads in gen_chan():\n",
    "#     com = TextMaster.strip_html(get_threads('com'))\n",
    "#     name = get_threads('name')\n",
    "#     replies = get_threads('replies')\n",
    "#     # if 'last_replies' in threads:\n",
    "#     #     for comment in threads['last_replies']:\n",
    "        "
   ]
  },
  {
   "cell_type": "code",
   "execution_count": 23,
   "metadata": {},
   "outputs": [
    {
     "output_type": "stream",
     "name": "stdout",
     "text": [
      "There are 149 active threads on /lgbt/: 18849514,18849344,18848104,18847229,18824630,18849508,18848469,18849637,18849672,18847404,18843231,18848705,18827610,18849664,18846477,18844509,18842864,18848661,18844135,18847162,18846168,18847380,18849363,18844502,18826912,18848940,18844466,18844559,18849083,18849564,18846376,18845809,18849267,18849416,18817906,18848025,18843155,18848525,18844004,18848265,18847194,18848221,18839945,18848072,18848481,18818341,18847957,18849372,18849084,18846880,18847889,18848508,18839993,18848632,18848079,18847004,18821891,18846369,18844449,18848847,18849070,18844726,18845884,18832820,18847528,18843853,18843662,18830404,18848545,18846109,18844064,18847465,18848849,18812963,18848944,18846887,18845785,18848111,18840657,18847717,18847155,18834983,18837585,18847190,18848711,18848073,18848746,18845630,18847966,18848682,18847994,18842618,18847687,18848603,18848368,18848557,18846363,18848045,18842886,18846742,18834128,18847106,18833242,18843911,18845724,18847012,18847886,18838045,18848214,18846928,18842658,18848057,18846593,18847971,18847860,18847034,18844294,18846038,18845352,18847519,18846945,18846665,18845699,18846703,18844355,18820841,18843360,18836278,18847462,18846101,18847325,18847630,18847458,18843712,18847550,18847043,18847573,18847283,18847457,18847368,18846768,18843775,18843518,18847335,18842108,18829267,18844588,18845882,18847185\n"
     ]
    }
   ],
   "source": [
    "import basc_py4chan\n",
    "lgbt = basc_py4chan.Board('lgbt')\n",
    "thread_ids = lgbt.get_all_thread_ids()\n",
    "str_tread_ids = [str(id) for id in thread_ids]\n",
    "print('There are', len(str_tread_ids), 'active threads on /lgbt/:',','.join(str_tread_ids))\n"
   ]
  },
  {
   "cell_type": "code",
   "execution_count": 25,
   "metadata": {},
   "outputs": [],
   "source": []
  },
  {
   "cell_type": "code",
   "execution_count": 86,
   "metadata": {},
   "outputs": [],
   "source": [
    "thread_data = lgbt.get_all_threads(expand=True)\n"
   ]
  },
  {
   "cell_type": "code",
   "execution_count": 87,
   "metadata": {},
   "outputs": [],
   "source": [
    "def gen_chan():\n",
    "    for thread in enumerate(thread_data):\n",
    "        yield thread\n"
   ]
  },
  {
   "cell_type": "code",
   "execution_count": 88,
   "metadata": {},
   "outputs": [],
   "source": [
    "def get_threads(key: str, default = 'NaN'):\n",
    "    return thread_data.get(key, default)"
   ]
  },
  {
   "cell_type": "code",
   "execution_count": 99,
   "metadata": {
    "tags": []
   },
   "outputs": [
    {
     "output_type": "error",
     "ename": "AttributeError",
     "evalue": "'str' object has no attribute 'topic'",
     "traceback": [
      "\u001b[0;31m---------------------------------------------------------------------------\u001b[0m",
      "\u001b[0;31mAttributeError\u001b[0m                            Traceback (most recent call last)",
      "\u001b[0;32m<ipython-input-99-be1ede1b44a4>\u001b[0m in \u001b[0;36m<module>\u001b[0;34m\u001b[0m\n\u001b[1;32m      1\u001b[0m \u001b[0;32mwith\u001b[0m \u001b[0mopen\u001b[0m\u001b[0;34m(\u001b[0m\u001b[0;34m'4chan_lgbt_1_31.txt'\u001b[0m\u001b[0;34m,\u001b[0m \u001b[0;34m'w'\u001b[0m\u001b[0;34m)\u001b[0m \u001b[0;32mas\u001b[0m \u001b[0moutfile\u001b[0m\u001b[0;34m:\u001b[0m\u001b[0;34m\u001b[0m\u001b[0;34m\u001b[0m\u001b[0m\n\u001b[1;32m      2\u001b[0m     \u001b[0;32mfor\u001b[0m \u001b[0mthread\u001b[0m \u001b[0;32min\u001b[0m \u001b[0mthread_data\u001b[0m\u001b[0;34m:\u001b[0m\u001b[0;34m\u001b[0m\u001b[0;34m\u001b[0m\u001b[0m\n\u001b[0;32m----> 3\u001b[0;31m         \u001b[0mtopic\u001b[0m \u001b[0;34m=\u001b[0m \u001b[0mthread\u001b[0m\u001b[0;34m.\u001b[0m\u001b[0mtopic\u001b[0m\u001b[0;34m\u001b[0m\u001b[0;34m\u001b[0m\u001b[0m\n\u001b[0m\u001b[1;32m      4\u001b[0m         \u001b[0mprint\u001b[0m\u001b[0;34m(\u001b[0m\u001b[0;34m'Topic Repr: '\u001b[0m\u001b[0;34m,\u001b[0m \u001b[0mtopic\u001b[0m\u001b[0;34m)\u001b[0m\u001b[0;34m\u001b[0m\u001b[0;34m\u001b[0m\u001b[0m\n\u001b[1;32m      5\u001b[0m         \u001b[0mprint\u001b[0m\u001b[0;34m(\u001b[0m\u001b[0;34m'Subject: '\u001b[0m\u001b[0;34m,\u001b[0m\u001b[0mtopic\u001b[0m\u001b[0;34m.\u001b[0m\u001b[0msubject\u001b[0m\u001b[0;34m)\u001b[0m\u001b[0;34m\u001b[0m\u001b[0;34m\u001b[0m\u001b[0m\n",
      "\u001b[0;31mAttributeError\u001b[0m: 'str' object has no attribute 'topic'"
     ]
    }
   ],
   "source": [
    "with open('4chan_lgbt_1_31.txt', 'w') as outfile:\n",
    "    for thread in thread_data:\n",
    "        topic = thread.topic\n",
    "        print('Topic Repr: ', topic)\n",
    "        print('Subject: ',topic.subject)\n",
    "        print('Comment: ', topic.text_comment)\n",
    "\n",
    "\n",
    "\n"
   ]
  },
  {
   "cell_type": "code",
   "execution_count": 94,
   "metadata": {},
   "outputs": [],
   "source": [
    "# def board_json():\n",
    "#         for threads in thread_data:\n",
    "#             for topic in threads: \n",
    "#                 thread_data['thread'].append({\n",
    "#             'Subject:', str(topic),\n",
    "#             'Comment:', str(topic.text_comment)\n",
    "#                 })\n",
    "\n",
    "           "
   ]
  },
  {
   "cell_type": "code",
   "execution_count": 95,
   "metadata": {},
   "outputs": [
    {
     "output_type": "error",
     "ename": "AttributeError",
     "evalue": "'str' object has no attribute 'subject'",
     "traceback": [
      "\u001b[0;31m---------------------------------------------------------------------------\u001b[0m",
      "\u001b[0;31mAttributeError\u001b[0m                            Traceback (most recent call last)",
      "\u001b[0;32m<ipython-input-95-e79ff7d8d42f>\u001b[0m in \u001b[0;36m<module>\u001b[0;34m\u001b[0m\n\u001b[0;32m----> 1\u001b[0;31m \u001b[0mnew_boad\u001b[0m \u001b[0;34m=\u001b[0m \u001b[0mboard_json\u001b[0m\u001b[0;34m(\u001b[0m\u001b[0;34m)\u001b[0m\u001b[0;34m\u001b[0m\u001b[0;34m\u001b[0m\u001b[0m\n\u001b[0m\u001b[1;32m      2\u001b[0m \u001b[0;34m\u001b[0m\u001b[0m\n",
      "\u001b[0;32m<ipython-input-94-c40bd738ff7c>\u001b[0m in \u001b[0;36mboard_json\u001b[0;34m()\u001b[0m\n\u001b[1;32m      3\u001b[0m             \u001b[0;32mfor\u001b[0m \u001b[0mtopic\u001b[0m \u001b[0;32min\u001b[0m \u001b[0mthreads\u001b[0m\u001b[0;34m:\u001b[0m\u001b[0;34m\u001b[0m\u001b[0;34m\u001b[0m\u001b[0m\n\u001b[1;32m      4\u001b[0m                 thread_data['thread'].append({\n\u001b[0;32m----> 5\u001b[0;31m             \u001b[0;34m'Subject:'\u001b[0m\u001b[0;34m,\u001b[0m \u001b[0mstr\u001b[0m\u001b[0;34m(\u001b[0m\u001b[0mtopic\u001b[0m\u001b[0;34m.\u001b[0m\u001b[0msubject\u001b[0m\u001b[0;34m)\u001b[0m\u001b[0;34m,\u001b[0m\u001b[0;34m\u001b[0m\u001b[0;34m\u001b[0m\u001b[0m\n\u001b[0m\u001b[1;32m      6\u001b[0m             \u001b[0;34m'Comment:'\u001b[0m\u001b[0;34m,\u001b[0m \u001b[0mstr\u001b[0m\u001b[0;34m(\u001b[0m\u001b[0mtopic\u001b[0m\u001b[0;34m.\u001b[0m\u001b[0mtext_comment\u001b[0m\u001b[0;34m)\u001b[0m\u001b[0;34m\u001b[0m\u001b[0;34m\u001b[0m\u001b[0m\n\u001b[1;32m      7\u001b[0m                 })\n",
      "\u001b[0;31mAttributeError\u001b[0m: 'str' object has no attribute 'subject'"
     ]
    }
   ],
   "source": [
    "# new_boad = board_json()\n",
    "\n"
   ]
  },
  {
   "cell_type": "code",
   "execution_count": null,
   "metadata": {},
   "outputs": [],
   "source": []
  }
 ]
}